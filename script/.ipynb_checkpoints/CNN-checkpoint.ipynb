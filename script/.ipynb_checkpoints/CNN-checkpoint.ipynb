{
 "cells": [
  {
   "cell_type": "code",
   "execution_count": 1,
   "metadata": {},
   "outputs": [],
   "source": [
    "import torch\n",
    "import torch.nn as nn\n",
    "import torch.nn.functional as F\n",
    "import torchvision.transforms as T\n",
    "import torchvision\n",
    "import matplotlib.pyplot as plt\n",
    "import numpy as np\n",
    "import os,sys\n",
    "from PIL import Image\n",
    "from pathlib import Path\n",
    "from tqdm import tqdm\n",
    "import time\n",
    "\n",
    "from helper_functions import *\n",
    "\n",
    "# Device configuration\n",
    "device = torch.device('cuda' if torch.cuda.is_available() else 'cpu')"
   ]
  },
  {
   "cell_type": "code",
   "execution_count": 2,
   "metadata": {},
   "outputs": [],
   "source": [
    "NBR_EPOCHS = 2\n",
    "BATCH_SIZE = 10\n",
    "LEARNING_RATE = 1e-3\n",
    "DIM = 1"
   ]
  },
  {
   "cell_type": "code",
   "execution_count": null,
   "metadata": {},
   "outputs": [],
   "source": [
    "%%time\n",
    "from torch.utils.data import Dataset, DataLoader\n",
    "class imagesDataset(Dataset): \n",
    "    \n",
    "    def __init__(self):\n",
    "        imgs_init, gt_imgs_init = load_train_dataset()\n",
    "        \n",
    "        # Data augmentation\n",
    "        self.imgs = compose_all_functions_for_data(imgs_init)\n",
    "        self.gt_imgs = compose_all_functions_for_data(gt_imgs_init)\n",
    "        self.n_samples = len(self.imgs)\n",
    "        \n",
    "    def __getitem__(self, index):\n",
    "        return self.imgs[index], self.gt_imgs[index]\n",
    "\n",
    "    def __len__(self):\n",
    "        return self.n_samples\n",
    "\n",
    "\n",
    "# create dataset\n",
    "torch.manual_seed(1)\n",
    "dataset = imagesDataset()\n",
    "train_loader = torch.utils.data.DataLoader(dataset, batch_size = BATCH_SIZE, shuffle = True)"
   ]
  },
  {
   "cell_type": "code",
   "execution_count": null,
   "metadata": {},
   "outputs": [],
   "source": [
    "img_temp = dataset[5432][0]\n",
    "to_PIL = T.ToPILImage()\n",
    "to_PIL(img_temp)"
   ]
  },
  {
   "cell_type": "code",
   "execution_count": null,
   "metadata": {},
   "outputs": [],
   "source": [
    "class ConvNet(nn.Module):\n",
    "    def __init__(self):\n",
    "        super(ConvNet, self).__init__()\n",
    "        \n",
    "        # \n",
    "        self.pool_d = nn.MaxPool2d(2, 2)\n",
    "        self.pool_u = nn.Upsample(scale_factor=2)\n",
    "        \n",
    "        # Activation function\n",
    "        self.activ = nn.ReLU()\n",
    "        self.final_activ = nn.Sigmoid()\n",
    "        \n",
    "        # Convolution Downwards\n",
    "        self.conv_1 = nn.Conv2d(3, 64, (3,3), padding=(1, 1))\n",
    "        self.conv_2 = nn.Conv2d(64, 64, (3,3), padding=(1, 1))\n",
    "        \n",
    "        self.conv_3 = nn.Conv2d(64, 128, (3,3), padding=(1, 1))\n",
    "        self.conv_4 = nn.Conv2d(128, 128, (3,3), padding=(1, 1))\n",
    "        \n",
    "        self.conv_5 = nn.Conv2d(128, 256, (3,3), padding=(1, 1))\n",
    "        self.conv_6 = nn.Conv2d(256, 256, (3,3), padding=(1, 1))\n",
    "        \n",
    "        self.conv_7 = nn.Conv2d(256, 512, (3,3), padding=(1, 1))\n",
    "        self.conv_8 = nn.Conv2d(512, 512, (3,3), padding=(1, 1))\n",
    "        \n",
    "        self.conv_9 = nn.Conv2d(512, 1024, (3,3), padding=(1, 1))\n",
    "        self.conv_10 = nn.Conv2d(1024, 1024, (3,3), padding=(1, 1))\n",
    "        \n",
    "        \n",
    "        # Upconvolution\n",
    "        self.upconv_1 = nn.Conv2d(512+1024, 512, (3,3), padding=(1, 1))\n",
    "        self.upconv_2 = nn.Conv2d(512, 512, (3,3), padding=(1, 1))\n",
    "        \n",
    "        self.upconv_3 = nn.Conv2d(256+512, 256, (3,3), padding=(1, 1))\n",
    "        self.upconv_4 = nn.Conv2d(256, 256, (3,3), padding=(1, 1))\n",
    "        \n",
    "        self.upconv_5 = nn.Conv2d(128+256, 128, (3,3), padding=(1, 1))\n",
    "        self.upconv_6 = nn.Conv2d(128, 128, (3,3), padding=(1, 1))\n",
    "        \n",
    "        self.upconv_7 = nn.Conv2d(64+128, 64, (3,3), padding=(1, 1))\n",
    "        self.upconv_8 = nn.Conv2d(64, 64, (3,3), padding=(1, 1))\n",
    "        self.upconv_9 = nn.Conv2d(64, 2, (1,1))\n",
    "\n",
    "\n",
    "    def forward(self, x):\n",
    "        # Convolution with activation and max_pooling\n",
    "        xd_1 = self.activ(self.conv_1(x))\n",
    "        xd_2 = self.activ(self.conv_2(xd_1))\n",
    "    \n",
    "        xd_3 = self.activ(self.conv_3(self.pool_d(xd_2)))\n",
    "        xd_4 = self.activ(self.conv_4(xd_3))\n",
    "        \n",
    "        xd_5 = self.activ(self.conv_5(self.pool_d(xd_4)))\n",
    "        xd_6 = self.activ(self.conv_6(xd_5))\n",
    "        \n",
    "        xd_7 = self.activ(self.conv_7(self.pool_d(xd_6)))\n",
    "        xd_8 = self.activ(self.conv_8(xd_7))\n",
    "        \n",
    "        xd_9 = self.activ(self.conv_9(self.pool_d(xd_8)))\n",
    "        xd_10 = self.pool_u(self.activ(self.conv_10(xd_9)))\n",
    "\n",
    "        # \"Fractionally / Backward strided convolution\" with activation and upsampling\n",
    "        xu_1 = self.activ(self.upconv_1(torch.cat((xd_8, xd_10), dim=DIM)))\n",
    "        xu_2 = self.pool_u(self.activ(self.upconv_2(xu_1)))\n",
    "        \n",
    "        xu_3 = self.activ(self.upconv_3(torch.cat((xd_6, xu_2), dim=DIM)))\n",
    "        xu_4 = self.pool_u(self.activ(self.upconv_4(xu_3)))\n",
    "        \n",
    "        xu_5 = self.activ(self.upconv_5(torch.cat((xd_4, xu_4), dim=DIM)))\n",
    "        xu_6 = self.pool_u(self.activ(self.upconv_6(xu_5)))\n",
    "        \n",
    "        xu_7 = self.activ(self.upconv_7(torch.cat((xd_2, xu_6), dim=DIM)))\n",
    "        xu_8 = self.activ(self.upconv_8(xu_7))\n",
    "        xu_9 = self.final_activ(self.upconv_9(xu_8))\n",
    "    \n",
    "        return xu_9\n",
    "\n",
    "model = ConvNet().to(device)"
   ]
  },
  {
   "cell_type": "code",
   "execution_count": null,
   "metadata": {},
   "outputs": [],
   "source": [
    "#criterion = nn.CrossEntropyLoss()# nn.MSELoss()\n",
    "optimizer = torch.optim.Adam(model.parameters(), lr=LEARNING_RATE)\n",
    "#loss function used in our neural network\n",
    "criterion = nn.CrossEntropyLoss()\n",
    "\n",
    "#criterion = nn.BCEWithLogitsLoss()"
   ]
  },
  {
   "cell_type": "code",
   "execution_count": null,
   "metadata": {
    "scrolled": false
   },
   "outputs": [],
   "source": [
    "%%time\n",
    "\n",
    "n_total_steps = len(train_loader)\n",
    "epoch = 0\n",
    "while True:\n",
    "    for i, (images, labels) in enumerate(train_loader):\n",
    "        # Measure training time of one batch sample\n",
    "        start = time.time()\n",
    "        \n",
    "        # FORWARD PASS\n",
    "        predictions = model(images)\n",
    "        print(predictions.shape)\n",
    "        print(labels.shape)\n",
    "        loss = criterion(predictions, labels)\n",
    "\n",
    "        # BACKWARD PASS\n",
    "        optimizer.zero_grad()\n",
    "        loss.backward()\n",
    "        optimizer.step()\n",
    "\n",
    "        print(f\"Epoch {epoch},  Batch {i} - Duration: {time.time()-start}, Loss:{loss.item():.4f}\")\n",
    "        epoch+=1\n",
    "\n",
    "print('Finished Training')"
   ]
  },
  {
   "cell_type": "code",
   "execution_count": 20,
   "metadata": {},
   "outputs": [
    {
     "name": "stdout",
     "output_type": "stream",
     "text": [
      "torch.Size([2, 400, 400])\n"
     ]
    }
   ],
   "source": [
    "a = torch.randint(0, 1, size = (10, 2, 400, 400))\n",
    "b = torch.argmax(a, dim=1)\n",
    "print(b.shape)"
   ]
  },
  {
   "cell_type": "code",
   "execution_count": null,
   "metadata": {},
   "outputs": [],
   "source": []
  }
 ],
 "metadata": {
  "kernelspec": {
   "display_name": "Python 3",
   "language": "python",
   "name": "python3"
  },
  "language_info": {
   "codemirror_mode": {
    "name": "ipython",
    "version": 3
   },
   "file_extension": ".py",
   "mimetype": "text/x-python",
   "name": "python",
   "nbconvert_exporter": "python",
   "pygments_lexer": "ipython3",
   "version": "3.8.5"
  }
 },
 "nbformat": 4,
 "nbformat_minor": 4
}
