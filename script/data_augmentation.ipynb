{
 "cells": [
  {
   "cell_type": "code",
   "execution_count": 1,
   "metadata": {},
   "outputs": [],
   "source": [
    "%matplotlib inline\n",
    "import matplotlib.image as mpimg\n",
    "import numpy as np\n",
    "import torch\n",
    "import torchvision.transforms as T\n",
    "import matplotlib.pyplot as plt\n",
    "import os,sys\n",
    "from PIL import Image\n",
    "from pathlib import Path"
   ]
  },
  {
   "cell_type": "code",
   "execution_count": 2,
   "metadata": {},
   "outputs": [],
   "source": [
    "# Constant\n",
    "torch.manual_seed(1)\n",
    "\n",
    "# Paths of images\n",
    "root_dir = \"../data/training/\"\n",
    "image_dir = root_dir + \"images/\"\n",
    "gt_dir = root_dir + \"groundtruth/\"\n",
    "\n",
    "files = os.listdir(image_dir)\n",
    "# Define \n",
    "n = len(files) # all images\n",
    "#n = min(20, len(files)) # maximum 20 images\n",
    "\n",
    "# Load images\n",
    "imgs = [Image.open(image_dir + files[i]) for i in range(n)]\n",
    "# Load ground truth images\n",
    "gt_imgs = [Image.open(gt_dir + files[i]) for i in range(n)]\n"
   ]
  },
  {
   "cell_type": "code",
   "execution_count": null,
   "metadata": {},
   "outputs": [],
   "source": [
    "%%time\n",
    "#Features Engineering \n",
    "\n",
    "# Grey scale \n",
    "gray_imgs = [T.Grayscale()(imgs[i]) for i in  range(n)]\n",
    "\n",
    "# Blurr\n",
    "blurred_imgs = [T.functional.gaussian_blur(imgs[i], kernel_size=(5, 9)) for i in range(n)]\n",
    "\n",
    "# Jitter\n",
    "jitter = T.ColorJitter(brightness=[2,2], contrast=0, saturation=0, hue=0)\n",
    "jitted_imgs = jitter(imgs[0])"
   ]
  },
  {
   "cell_type": "code",
   "execution_count": 21,
   "metadata": {},
   "outputs": [
    {
     "name": "stdout",
     "output_type": "stream",
     "text": [
      "CPU times: user 12 µs, sys: 0 ns, total: 12 µs\n",
      "Wall time: 15 µs\n"
     ]
    }
   ],
   "source": [
    "%%time\n",
    "#Data  augmentation\n",
    "\n",
    "# Constants\n",
    "DIM_IMG = 400\n",
    "DIM_IMG_CROP=DIM_IMG//2\n",
    "NB_ROT = 3\n",
    "\n",
    "#Horizontal flip\n",
    "def hor_flip(imgs):\n",
    "    hflip_imgs = [T.functional.hflip(imgs[i]) for i in range(len(imgs))]\n",
    "    return hflip_imgs\n",
    "\n",
    "#Vertical flip\n",
    "def vert_flip(imgs):\n",
    "    vflip_imgs = [T.functional.vflip(imgs[i]) for i in range(len(imgs))]\n",
    "    return vflip_imgs\n",
    "    \n",
    "#Rotation\n",
    "def rotation(imgs):\n",
    "    rot_imgs = [T.functional.rotate(imgs[i], 30*(i+1), expand=False) for _ in range(NB_ROT) for i in range(len(imgs))]\n",
    "    return rot_imgs\n",
    "    \n",
    "#Crop and resize\n",
    "def crop(imgs):\n",
    "    cropped_imgs = [T.Resize(size=DIM_IMG)(T.FiveCrop(size=DIM_IMG_CROP)(imgs[i])[tuple_i])\n",
    "            for tuple_i in range(5)\n",
    "            for i in range(len(imgs))\n",
    "           ]\n",
    "    return cropped_imgs\n",
    "\n",
    "def all_functions(imgs):\n",
    "    h = imgs + hor_flip(imgs)\n",
    "    v = h + vert_flip(h)\n",
    "    r = v + rotation(v)\n",
    "    c = r + crop(r)\n",
    "    return c    "
   ]
  },
  {
   "cell_type": "code",
   "execution_count": 22,
   "metadata": {},
   "outputs": [
    {
     "name": "stdout",
     "output_type": "stream",
     "text": [
      "h = 200\n",
      "v = 400\n",
      "r = 1600\n",
      "c = 9600\n",
      "h = 200\n",
      "v = 400\n",
      "r = 1600\n",
      "c = 9600\n",
      "CPU times: user 31.6 s, sys: 7.94 s, total: 39.6 s\n",
      "Wall time: 44.2 s\n"
     ]
    }
   ],
   "source": [
    "%%time\n",
    "\n",
    "all_images = all_functions(imgs)\n",
    "all_gt_images = all_functions(gt_imgs)"
   ]
  },
  {
   "cell_type": "code",
   "execution_count": null,
   "metadata": {},
   "outputs": [],
   "source": []
  }
 ],
 "metadata": {
  "kernelspec": {
   "display_name": "Python 3",
   "language": "python",
   "name": "python3"
  },
  "language_info": {
   "codemirror_mode": {
    "name": "ipython",
    "version": 3
   },
   "file_extension": ".py",
   "mimetype": "text/x-python",
   "name": "python",
   "nbconvert_exporter": "python",
   "pygments_lexer": "ipython3",
   "version": "3.8.5"
  }
 },
 "nbformat": 4,
 "nbformat_minor": 1
}
